{
 "cells": [
  {
   "cell_type": "markdown",
   "id": "a9fcd31c-894c-4cbb-8a6a-4a1f7253f8e9",
   "metadata": {},
   "source": [
    "# Data Science Tools and Ecosystem"
   ]
  },
  {
   "cell_type": "markdown",
   "id": "7806d70e-b234-4a06-9dbd-773fe87f2395",
   "metadata": {},
   "source": [
    "In this notebook, Data Science Tools and Ecosystem are summarized."
   ]
  },
  {
   "cell_type": "markdown",
   "id": "070edb38-dd75-4f92-8964-c069a2eba216",
   "metadata": {},
   "source": [
    "**Objectives:**\n",
    "- List popular languages of Data Science.\n",
    "- List popular data science tools.\n",
    "- Evaluate arithmetic expressions in Python."
   ]
  },
  {
   "cell_type": "markdown",
   "id": "af958620-9205-40eb-8401-27fffe9823ab",
   "metadata": {},
   "source": [
    "Some of the popular languages that Data Scientists use are:\n",
    "1. Python\n",
    "2. R\n",
    "3. Julia\n"
   ]
  },
  {
   "cell_type": "markdown",
   "id": "1e976dd4-39b5-46ed-9971-5f35d10c52d7",
   "metadata": {},
   "source": [
    "Data Science Tools|\n",
    "------------------|\n",
    "Hadoop|\n",
    "Kafka|\n",
    "Spark|"
   ]
  },
  {
   "cell_type": "markdown",
   "id": "6d7abe9a-9f22-4018-aa99-82d8c2eab371",
   "metadata": {},
   "source": [
    "### Below are a few examples of evaluating arithmetic expressions in Python."
   ]
  },
  {
   "cell_type": "code",
   "execution_count": 1,
   "id": "021bb2de-f344-47bf-a8b7-4a4c6cf789de",
   "metadata": {},
   "outputs": [
    {
     "data": {
      "text/plain": [
       "17"
      ]
     },
     "execution_count": 1,
     "metadata": {},
     "output_type": "execute_result"
    }
   ],
   "source": [
    "# This a simple arithmetic expression to mutiply then add integers\n",
    "(3*4)+5"
   ]
  },
  {
   "cell_type": "code",
   "execution_count": 2,
   "id": "36683f1e-04f1-4d47-8a47-5fcb6a35b58d",
   "metadata": {},
   "outputs": [
    {
     "data": {
      "text/plain": [
       "3.3333333333333335"
      ]
     },
     "execution_count": 2,
     "metadata": {},
     "output_type": "execute_result"
    }
   ],
   "source": [
    "# This will convert 200 minutes to hours by diving by 60\n",
    "200 / 60"
   ]
  },
  {
   "cell_type": "markdown",
   "id": "cee59308-8eb6-440c-888e-deb8afb2cb1d",
   "metadata": {},
   "source": [
    "## Author\n",
    "Muhammad Nauman"
   ]
  },
  {
   "cell_type": "code",
   "execution_count": null,
   "id": "c41796f1-ebfd-4958-97f3-fafcf664b26f",
   "metadata": {},
   "outputs": [],
   "source": []
  }
 ],
 "metadata": {
  "kernelspec": {
   "display_name": "Python 3 (ipykernel)",
   "language": "python",
   "name": "python3"
  },
  "language_info": {
   "codemirror_mode": {
    "name": "ipython",
    "version": 3
   },
   "file_extension": ".py",
   "mimetype": "text/x-python",
   "name": "python",
   "nbconvert_exporter": "python",
   "pygments_lexer": "ipython3",
   "version": "3.11.9"
  }
 },
 "nbformat": 4,
 "nbformat_minor": 5
}
